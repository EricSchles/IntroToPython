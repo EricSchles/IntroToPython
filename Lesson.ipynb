{
 "metadata": {
  "name": "",
  "signature": "sha256:c9e100d4d234c7492aabc87f19a6279f40e8aad9a7e1dcb7701e3dc14684c14d"
 },
 "nbformat": 3,
 "nbformat_minor": 0,
 "worksheets": [
  {
   "cells": [
    {
     "cell_type": "code",
     "collapsed": false,
     "input": [
      "import antigravity"
     ],
     "language": "python",
     "metadata": {},
     "outputs": []
    },
    {
     "cell_type": "code",
     "collapsed": false,
     "input": [
      "import this"
     ],
     "language": "python",
     "metadata": {},
     "outputs": []
    },
    {
     "cell_type": "code",
     "collapsed": false,
     "input": [
      "#Creating data\n",
      "print \"Hello World\""
     ],
     "language": "python",
     "metadata": {},
     "outputs": []
    },
    {
     "cell_type": "code",
     "collapsed": false,
     "input": [
      "#Saving data\n",
      "x = 5\n",
      "print x + 7\n",
      "name = \"Eric\"\n",
      "print \"Hello\" + name"
     ],
     "language": "python",
     "metadata": {},
     "outputs": []
    },
    {
     "cell_type": "code",
     "collapsed": false,
     "input": [
      "#Writing a friend\n",
      "print \"Hello there\"\n",
      "name = str(raw_input(\"What's your name?\")) #get's input from the user\n",
      "print \"Hello,\"+name\n",
      "print \"How are you today?\""
     ],
     "language": "python",
     "metadata": {},
     "outputs": []
    },
    {
     "cell_type": "code",
     "collapsed": false,
     "input": [
      "\"\"\"\n",
      "Explanation of the above code:\n",
      "Functions used:\n",
      "raw_input - takes in key strokes from the user, until enter is pressed\n",
      "str - converts the output to a string.\n",
      "\"\"\""
     ],
     "language": "python",
     "metadata": {},
     "outputs": []
    },
    {
     "cell_type": "code",
     "collapsed": false,
     "input": [
      "#Creating our own functions:\n",
      "def Hello(name):\n",
      "    print \"Hello,\"+name\n",
      "\n",
      "print \"Hello there\"\n",
      "name = str(raw_input(\"What's your name?\")) #get's input from the user\n",
      "Hello(name)\n",
      "print \"How are you today?\""
     ],
     "language": "python",
     "metadata": {},
     "outputs": []
    },
    {
     "cell_type": "code",
     "collapsed": false,
     "input": [
      "#Syntax In general:\n",
      "print '''\n",
      "def [name of function]([optional inputs]):\n",
      "    ..start of code block (tabbed in)\n",
      "    ...end of code block (tabbed in)\n",
      "    return [value] - this line is optional\n",
      "'''\n"
     ],
     "language": "python",
     "metadata": {},
     "outputs": []
    },
    {
     "cell_type": "code",
     "collapsed": false,
     "input": [
      "#Write your own function\n"
     ],
     "language": "python",
     "metadata": {},
     "outputs": []
    },
    {
     "cell_type": "code",
     "collapsed": false,
     "input": [
      "#Flow of control\n",
      "if True: #if [statement] do (what's below)\n",
      "    print \"yes it's true\"\n",
      "else: #else do what's below here.\n",
      "    print \"nope, somehow it's not...\"\n",
      "\n",
      "if 4< 5:\n",
      "    print \"Basic math still works\"\n",
      "else:\n",
      "    print \"basic math has gone away.  I guess we broke physics?\"\n",
      "\n",
      "some_statement = \"this is my string and it has my name\"\n",
      "if \"name\" in some_statement:\n",
      "    print \"We found that name\"\n",
      "else:\n",
      "    print \"nope, we didn't...\"\n"
     ],
     "language": "python",
     "metadata": {},
     "outputs": []
    },
    {
     "cell_type": "code",
     "collapsed": false,
     "input": [
      "#Basic data structures\n",
      "things = [1,2,3,4,5]\n",
      "print things[0]\n",
      "print things[3]\n",
      "print things[-1]\n",
      "\n",
      "#print all the elements\n",
      "for element in things:\n",
      "    print element\n",
      "\n",
      "things.append(7)\n",
      "for element in things:\n",
      "    print element\n",
      "\n",
      "things.append(\"Hello there\")\n",
      "for element in things:\n",
      "    print element\n",
      "\n",
      "things.append([4,5,6])\n",
      "print things\n",
      "\n",
      "\n"
     ],
     "language": "python",
     "metadata": {},
     "outputs": []
    }
   ],
   "metadata": {}
  }
 ]
}